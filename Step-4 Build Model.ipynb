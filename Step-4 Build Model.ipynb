{
  "cells": [
    {
      "cell_type": "markdown",
      "metadata": {
        "id": "-FhFhJIbTf_J"
      },
      "source": [
        "**Reading the preprocessed data**"
      ]
    },
    {
      "cell_type": "code",
      "execution_count": 11,
      "metadata": {
        "id": "HFplZzG3TXzI"
      },
      "outputs": [],
      "source": [
        "import pandas as pd\n",
        "data = pd.read_csv(\"quora_preprocessed.csv\")"
      ]
    },
    {
      "cell_type": "markdown",
      "metadata": {
        "id": "VauSOTnyTnz_"
      },
      "source": [
        "**Importing libraries**"
      ]
    },
    {
      "cell_type": "code",
      "execution_count": 3,
      "metadata": {
        "id": "BmpAyctLTqH4"
      },
      "outputs": [],
      "source": [
        "import seaborn as sns\n",
        "from sklearn.model_selection import train_test_split\n",
        "from sklearn.feature_extraction.text import TfidfVectorizer\n",
        "from sklearn.metrics import (precision_score, recall_score, f1_score,accuracy_score,confusion_matrix)\n",
        "\n",
        "from sklearn.naive_bayes import MultinomialNB\n",
        "from sklearn.linear_model import LogisticRegression"
      ]
    },
    {
      "cell_type": "code",
      "execution_count": 12,
      "metadata": {},
      "outputs": [],
      "source": [
        "data=data.dropna()"
      ]
    },
    {
      "cell_type": "markdown",
      "metadata": {
        "id": "mrahitgbUZD5"
      },
      "source": [
        "**Train/test split**"
      ]
    },
    {
      "cell_type": "code",
      "execution_count": 5,
      "metadata": {
        "id": "1zJC98D5T_qq"
      },
      "outputs": [],
      "source": [
        "x = data['ques_lemmatized']\n",
        "y = data['target']\n",
        "x_train, x_test, y_train, y_test = train_test_split(x, y, random_state=42)"
      ]
    },
    {
      "cell_type": "markdown",
      "metadata": {
        "id": "1RA0EpJ1Ucf3"
      },
      "source": [
        "**TF-IDF Vectorizer**"
      ]
    },
    {
      "cell_type": "code",
      "execution_count": 14,
      "metadata": {
        "id": "KY-uuusfUFID"
      },
      "outputs": [],
      "source": [
        "vectoriser = TfidfVectorizer(ngram_range=(1,2),max_features=100000)\n",
        "vectoriser.fit(x_train)\n",
        "\n",
        "x_train = vectoriser.transform(x_train)\n",
        "x_test  = vectoriser.transform(x_test)"
      ]
    },
    {
      "cell_type": "markdown",
      "metadata": {
        "id": "qB2KP3o5Ujlm"
      },
      "source": [
        "**Logistic Regression**"
      ]
    },
    {
      "cell_type": "code",
      "execution_count": 15,
      "metadata": {
        "id": "_yl-JnVeUIGa"
      },
      "outputs": [
        {
          "name": "stdout",
          "output_type": "stream",
          "text": [
            "Test accuracy: 0.9512\n"
          ]
        },
        {
          "name": "stderr",
          "output_type": "stream",
          "text": [
            "c:\\Users\\Pallavi\\miniconda3\\lib\\site-packages\\sklearn\\linear_model\\_logistic.py:444: ConvergenceWarning: lbfgs failed to converge (status=1):\n",
            "STOP: TOTAL NO. of ITERATIONS REACHED LIMIT.\n",
            "\n",
            "Increase the number of iterations (max_iter) or scale the data as shown in:\n",
            "    https://scikit-learn.org/stable/modules/preprocessing.html\n",
            "Please also refer to the documentation for alternative solver options:\n",
            "    https://scikit-learn.org/stable/modules/linear_model.html#logistic-regression\n",
            "  n_iter_i = _check_optimize_result(\n"
          ]
        }
      ],
      "source": [
        "model = LogisticRegression()\n",
        "model.fit(x_train, y_train)\n",
        "\n",
        "\n",
        "y_pred = model.predict(x_test)\n",
        "accuracy = accuracy_score(y_test, y_pred)\n",
        "print(f\"Test accuracy: {accuracy:.4f}\")\n"
      ]
    },
    {
      "cell_type": "code",
      "execution_count": 8,
      "metadata": {},
      "outputs": [
        {
          "name": "stdout",
          "output_type": "stream",
          "text": [
            "F1 Score:0.4958\n"
          ]
        }
      ],
      "source": [
        "f1score=f1_score(y_test,y_pred)\n",
        "print(f\"F1 Score:{f1score:.4f}\")"
      ]
    },
    {
      "cell_type": "markdown",
      "metadata": {
        "id": "uwKQZj4QUuBS"
      },
      "source": [
        "**Confusion Matrix**"
      ]
    },
    {
      "cell_type": "code",
      "execution_count": 9,
      "metadata": {
        "id": "Ca0YYMz2UOZQ"
      },
      "outputs": [
        {
          "data": {
            "text/plain": [
              "<AxesSubplot: >"
            ]
          },
          "execution_count": 9,
          "metadata": {},
          "output_type": "execute_result"
        },
        {
          "data": {
            "image/png": "[encoded data removed]",
            "text/plain": [
              "<Figure size 640x480 with 2 Axes>"
            ]
          },
          "metadata": {},
          "output_type": "display_data"
        }
      ],
      "source": [
        "confusion_lg = confusion_matrix(y_test, y_pred) #confusion metrics\n",
        "sns.heatmap(confusion_lg, linewidths=0.01, annot=True,fmt= '.1f', color='red')"
      ]
    },
    {
      "cell_type": "markdown",
      "metadata": {
        "id": "zrwU2ZNpUyTg"
      },
      "source": [
        "**Multinomial Naive Bayes**"
      ]
    },
    {
      "cell_type": "code",
      "execution_count": 10,
      "metadata": {
        "id": "hQRpNBlKUWoJ"
      },
      "outputs": [
        {
          "name": "stdout",
          "output_type": "stream",
          "text": [
            "Test accuracy: 0.9473\n",
            "F1 Score:0.4116\n"
          ]
        }
      ],
      "source": [
        "nb = MultinomialNB()\n",
        "\n",
        "# Train the model\n",
        "nb.fit(x_train, y_train)\n",
        "# Evaluate the model on the test set\n",
        "y_p = nb.predict(x_test)\n",
        "accuracy = accuracy_score(y_test, y_p)\n",
        "f1score=f1_score(y_test,y_p)\n",
        "print(f\"Test accuracy: {accuracy:.4f}\")\n",
        "print(f\"F1 Score:{f1score:.4f}\")"
      ]
    },
    {
      "cell_type": "markdown",
      "metadata": {},
      "source": [
        "**Stratified K-Fold Sampling for Imbalanced dataset**"
      ]
    },
    {
      "cell_type": "code",
      "execution_count": 5,
      "metadata": {},
      "outputs": [],
      "source": [
        "import numpy as np\n",
        "from sklearn.model_selection import StratifiedKFold\n"
      ]
    },
    {
      "cell_type": "code",
      "execution_count": 6,
      "metadata": {},
      "outputs": [],
      "source": [
        "x = data['ques_lemmatized'].values\n",
        "y = data['target'].values"
      ]
    },
    {
      "cell_type": "code",
      "execution_count": 7,
      "metadata": {},
      "outputs": [],
      "source": [
        "skf = StratifiedKFold(n_splits=10, shuffle=True, random_state=1)\n",
        "lst_accu_stratified = []\n",
        "lst_f1score_stratified = []\n",
        "for train_index, test_index in skf.split(x, y):\n",
        "    x_train, x_test = x[train_index], x[test_index]\n",
        "    y_train, y_test = y[train_index], y[test_index]\n",
        "\n",
        "    tfidf = TfidfVectorizer(ngram_range=(1,2),max_features=100000)\n",
        "    x_train = tfidf.fit_transform(x_train)\n",
        "    x_test = tfidf.transform(x_test)\n",
        "\n",
        "    classifier = LogisticRegression(class_weight = \"balanced\", C=0.5, solver='sag')\n",
        "    classifier.fit(x_train, y_train)\n",
        "    y_pred = classifier.predict(x_test)\n",
        "    accuracy = accuracy_score(y_test, y_pred)\n",
        "    lst_accu_stratified.append(accuracy)\n",
        "    F1score = f1_score(y_test,y_pred)\n",
        "    lst_f1score_stratified.append(F1score)\n"
      ]
    },
    {
      "cell_type": "code",
      "execution_count": 8,
      "metadata": {},
      "outputs": [
        {
          "name": "stdout",
          "output_type": "stream",
          "text": [
            "List of possible accuracy: [0.9000957084338271, 0.8997511580720493, 0.8997205313732246, 0.899866008192642, 0.8993147276137974, 0.9012817371596582, 0.8995972558267741, 0.9004471532265474, 0.9009831245597378, 0.9000643165599829]\n",
            "\n",
            "Maximum Accuracy That can be obtained from this model is: 90.12817371596581 %\n",
            "\n",
            "Minimum Accuracy: 89.93147276137974 %\n",
            "\n",
            "Overall Accuracy: 90.01121721018241 %\n"
          ]
        }
      ],
      "source": [
        "# Print the output.\n",
        "print('List of possible accuracy:', lst_accu_stratified)\n",
        "print('\\nMaximum Accuracy That can be obtained from this model is:',\n",
        "      max(lst_accu_stratified)*100, '%')\n",
        "print('\\nMinimum Accuracy:',\n",
        "      min(lst_accu_stratified)*100, '%')\n",
        "print('\\nOverall Accuracy:',\n",
        "      np.mean(lst_accu_stratified)*100, '%')\n",
        "\n",
        "\n"
      ]
    },
    {
      "cell_type": "code",
      "execution_count": 9,
      "metadata": {},
      "outputs": [
        {
          "name": "stdout",
          "output_type": "stream",
          "text": [
            "List of possible F1 Scores: [0.5169196593854127, 0.5172019617242525, 0.5175170381285689, 0.5167750517292344, 0.5170412810342294, 0.5207241366491951, 0.5162147205312674, 0.5187296416938112, 0.5217455621301774, 0.5174504584442473]\n",
            "\n",
            "Maximum f1 score That can be obtained from this model is: 52.174556213017745 %\n",
            "\n",
            "Minimum f1 score: 51.62147205312674 %\n",
            "\n",
            "Overall f1score: 51.80319511450395 %\n"
          ]
        }
      ],
      "source": [
        "print('List of possible F1 Scores:', lst_f1score_stratified)\n",
        "print('\\nMaximum f1 score That can be obtained from this model is:',\n",
        "      max(lst_f1score_stratified)*100, '%')\n",
        "print('\\nMinimum f1 score:',\n",
        "      min(lst_f1score_stratified)*100, '%')\n",
        "print('\\nOverall f1score:',\n",
        "      np.mean(lst_f1score_stratified)*100, '%')"
      ]
    }
  ],
  "metadata": {
    "colab": {
      "provenance": []
    },
    "kernelspec": {
      "display_name": "Python 3",
      "name": "python3"
    },
    "language_info": {
      "codemirror_mode": {
        "name": "ipython",
        "version": 3
      },
      "file_extension": ".py",
      "mimetype": "text/x-python",
      "name": "python",
      "nbconvert_exporter": "python",
      "pygments_lexer": "ipython3",
      "version": "3.9.12"
    }
  },
  "nbformat": 4,
  "nbformat_minor": 0
}
